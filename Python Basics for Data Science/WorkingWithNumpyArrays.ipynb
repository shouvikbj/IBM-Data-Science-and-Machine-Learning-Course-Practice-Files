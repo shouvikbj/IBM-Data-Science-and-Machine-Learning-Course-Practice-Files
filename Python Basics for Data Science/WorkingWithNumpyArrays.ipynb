{
 "cells": [
  {
   "cell_type": "code",
   "execution_count": 1,
   "metadata": {},
   "outputs": [],
   "source": [
    "import numpy as np"
   ]
  },
  {
   "cell_type": "code",
   "execution_count": 38,
   "metadata": {},
   "outputs": [],
   "source": [
    "### Below are Numpy 1D Array examples ###"
   ]
  },
  {
   "cell_type": "code",
   "execution_count": 13,
   "metadata": {},
   "outputs": [
    {
     "name": "stdout",
     "output_type": "stream",
     "text": [
      "1 4 5 3 8 6\n",
      "<class 'numpy.ndarray'>\n",
      "6\n",
      "1\n",
      "(6,)\n",
      "int64\n",
      "[100   4   5   3   8   6]\n",
      "[4 5 3]\n",
      "[ 4 34 40]\n"
     ]
    }
   ],
   "source": [
    "a = np.array([1,4,5,3,8,6])\n",
    "print(a[0],a[1],a[2],a[3],a[4],a[5])\n",
    "print(type(a))\n",
    "print(a.size)\n",
    "print(a.ndim)\n",
    "print(a.shape)\n",
    "print(a.dtype)\n",
    "\n",
    "a[0] = 100\n",
    "print(a)\n",
    "\n",
    "b = a[1:4]\n",
    "print(b)\n",
    "\n",
    "b[1:3] = 34,40\n",
    "print(b)"
   ]
  },
  {
   "cell_type": "code",
   "execution_count": 16,
   "metadata": {},
   "outputs": [
    {
     "name": "stdout",
     "output_type": "stream",
     "text": [
      "[1 1]\n"
     ]
    }
   ],
   "source": [
    "# array addition\n",
    "u = np.array([1,0])\n",
    "v = np.array([0,1])\n",
    "z = u+v\n",
    "print(z)"
   ]
  },
  {
   "cell_type": "code",
   "execution_count": 17,
   "metadata": {},
   "outputs": [
    {
     "name": "stdout",
     "output_type": "stream",
     "text": [
      "[4 8]\n"
     ]
    }
   ],
   "source": [
    "# array multiplication with scaler\n",
    "y = np.array([2,4])\n",
    "z = 2*y\n",
    "print(z)"
   ]
  },
  {
   "cell_type": "code",
   "execution_count": 18,
   "metadata": {},
   "outputs": [
    {
     "name": "stdout",
     "output_type": "stream",
     "text": [
      "[3 4]\n"
     ]
    }
   ],
   "source": [
    "# product of two numpy arrays\n",
    "u = np.array([1,2])\n",
    "v = np.array([3,2])\n",
    "z = u*v\n",
    "print(z)"
   ]
  },
  {
   "cell_type": "code",
   "execution_count": 21,
   "metadata": {},
   "outputs": [
    {
     "name": "stdout",
     "output_type": "stream",
     "text": [
      "10\n"
     ]
    }
   ],
   "source": [
    "# dot product of two numpy arrays\n",
    "u = np.array([2,2])\n",
    "v = np.array([3,2])\n",
    "result = np.dot(u,v)\n",
    "print(result)"
   ]
  },
  {
   "cell_type": "code",
   "execution_count": 23,
   "metadata": {},
   "outputs": [
    {
     "name": "stdout",
     "output_type": "stream",
     "text": [
      "[2 3 4 0]\n"
     ]
    }
   ],
   "source": [
    "# adding constant to an numpy array\n",
    "## this property is also known as broadcasting\n",
    "u = np.array([1,2,3,-1])\n",
    "z = u+1\n",
    "print(z)"
   ]
  },
  {
   "cell_type": "code",
   "execution_count": 35,
   "metadata": {},
   "outputs": [
    {
     "name": "stdout",
     "output_type": "stream",
     "text": [
      "1.25\n",
      "6\n",
      "3.141592653589793\n",
      "[0.0000000e+00 1.0000000e+00 1.2246468e-16]\n",
      "[-2. -1.  0.  1.  2.]\n",
      "[0.         0.06346652 0.12693304 0.19039955 0.25386607 0.31733259\n",
      " 0.38079911 0.44426563 0.50773215 0.57119866 0.63466518 0.6981317\n",
      " 0.76159822 0.82506474 0.88853126 0.95199777 1.01546429 1.07893081\n",
      " 1.14239733 1.20586385 1.26933037 1.33279688 1.3962634  1.45972992\n",
      " 1.52319644 1.58666296 1.65012947 1.71359599 1.77706251 1.84052903\n",
      " 1.90399555 1.96746207 2.03092858 2.0943951  2.15786162 2.22132814\n",
      " 2.28479466 2.34826118 2.41172769 2.47519421 2.53866073 2.60212725\n",
      " 2.66559377 2.72906028 2.7925268  2.85599332 2.91945984 2.98292636\n",
      " 3.04639288 3.10985939 3.17332591 3.23679243 3.30025895 3.36372547\n",
      " 3.42719199 3.4906585  3.55412502 3.61759154 3.68105806 3.74452458\n",
      " 3.8079911  3.87145761 3.93492413 3.99839065 4.06185717 4.12532369\n",
      " 4.1887902  4.25225672 4.31572324 4.37918976 4.44265628 4.5061228\n",
      " 4.56958931 4.63305583 4.69652235 4.75998887 4.82345539 4.88692191\n",
      " 4.95038842 5.01385494 5.07732146 5.14078798 5.2042545  5.26772102\n",
      " 5.33118753 5.39465405 5.45812057 5.52158709 5.58505361 5.64852012\n",
      " 5.71198664 5.77545316 5.83891968 5.9023862  5.96585272 6.02931923\n",
      " 6.09278575 6.15625227 6.21971879 6.28318531]\n"
     ]
    }
   ],
   "source": [
    "# some examples of using universal functions with numpy arrays\n",
    "a = np.array([1,-1,6,-1])\n",
    "\n",
    "## finding mean\n",
    "mean_a = a.mean()\n",
    "print(mean_a)\n",
    "\n",
    "## finding max\n",
    "max_a = a.max()\n",
    "print(max_a)\n",
    "\n",
    "## complex mathematical functions\n",
    "print(np.pi)\n",
    "\n",
    "x = np.array([0,np.pi/2, np.pi])\n",
    "y = np.sin(x)\n",
    "print(y)\n",
    "\n",
    "## linspace => returns evenly spaced numbers over a specified interval\n",
    "u = np.linspace(-2,2,num=5) # this \"num\" specifies how many numbers to output\n",
    "print(u)\n"
   ]
  },
  {
   "cell_type": "code",
   "execution_count": 37,
   "metadata": {},
   "outputs": [
    {
     "data": {
      "text/plain": [
       "[<matplotlib.lines.Line2D at 0x7fc328f43690>]"
      ]
     },
     "execution_count": 37,
     "metadata": {},
     "output_type": "execute_result"
    },
    {
     "data": {
      "image/png": "[encoded data removed]",
      "text/plain": [
       "<Figure size 432x288 with 1 Axes>"
      ]
     },
     "metadata": {
      "needs_background": "light"
     },
     "output_type": "display_data"
    }
   ],
   "source": [
    "# ploting mathematical functions\n",
    "import matplotlib.pyplot as plt\n",
    "%matplotlib inline\n",
    "\n",
    "x = np.linspace(0,2*np.pi,100)\n",
    "y = np.sin(x)\n",
    "z = np.cos(x)\n",
    "\n",
    "plt.plot(x,y)\n",
    "plt.plot(x,z)"
   ]
  },
  {
   "cell_type": "code",
   "execution_count": null,
   "metadata": {},
   "outputs": [],
   "source": []
  },
  {
   "cell_type": "code",
   "execution_count": 39,
   "metadata": {},
   "outputs": [],
   "source": [
    "### Below are Numpy 2D Array examples ###"
   ]
  },
  {
   "cell_type": "code",
   "execution_count": 47,
   "metadata": {},
   "outputs": [
    {
     "name": "stdout",
     "output_type": "stream",
     "text": [
      "[[11 12 13]\n",
      " [21 22 23]\n",
      " [31 32 33]]\n",
      "2D Array\n",
      "(3, 3)\n",
      "9\n",
      "11 12 13 21 22 23 31 32 33\n",
      "[11 12]\n"
     ]
    }
   ],
   "source": [
    "a = [[11,12,13],[21,22,23],[31,32,33]]\n",
    "A = np.array(a)\n",
    "print(A)\n",
    "print(f\"{A.ndim}D Array\")\n",
    "print(A.shape)\n",
    "print(A.size)\n",
    "print(A[0][0],A[0][1],A[0][2],A[1][0],A[1][1],A[1][2],A[2][0],A[2][1],A[2][2])\n",
    "print(A[0,0:2]) ## 2D Array index splicing"
   ]
  },
  {
   "cell_type": "code",
   "execution_count": 57,
   "metadata": {},
   "outputs": [
    {
     "name": "stdout",
     "output_type": "stream",
     "text": [
      "array addition\n",
      "[[3 1]\n",
      " [1 3]]\n",
      "constant multiplication with 2D array\n",
      "[[10  5]\n",
      " [ 5 10]]\n",
      "dot product\n",
      "[[2 0]\n",
      " [0 2]]\n",
      "matrix multiplication on numpy 2D arrays\n",
      "[[0 2]\n",
      " [0 2]]\n"
     ]
    }
   ],
   "source": [
    "## array addition\n",
    "x = np.array([[1,0],[0,1]])\n",
    "y = np.array([[2,1],[1,2]])\n",
    "z = x+y\n",
    "print(\"array addition\")\n",
    "print(z)\n",
    "\n",
    "## constant multiplication with 2D array\n",
    "x = np.array([[2,1],[1,2]])\n",
    "y = 5*x\n",
    "print(\"constant multiplication with 2D array\")\n",
    "print(y)\n",
    "\n",
    "## dot product\n",
    "x = np.array([[1,0],[0,1]])\n",
    "y = np.array([[2,1],[1,2]])\n",
    "z = x*y\n",
    "print(\"dot product\")\n",
    "print(z)\n",
    "\n",
    "## matrix multiplication on numpy 2D arrays\n",
    "a = np.array([[0,1,1],[1,0,1]]) # np array(matrix) of size (2x3)\n",
    "b = np.array([[1,1],[1,1],[-1,1]]) # np array (matrix) of size (3x2)\n",
    "c = np.dot(a,b)\n",
    "print(\"matrix multiplication on numpy 2D arrays\")\n",
    "print(c)"
   ]
  },
  {
   "cell_type": "code",
   "execution_count": null,
   "metadata": {},
   "outputs": [],
   "source": []
  },
  {
   "cell_type": "code",
   "execution_count": null,
   "metadata": {},
   "outputs": [],
   "source": []
  },
  {
   "cell_type": "code",
   "execution_count": null,
   "metadata": {},
   "outputs": [],
   "source": []
  },
  {
   "cell_type": "code",
   "execution_count": null,
   "metadata": {},
   "outputs": [],
   "source": []
  },
  {
   "cell_type": "code",
   "execution_count": null,
   "metadata": {},
   "outputs": [],
   "source": []
  }
 ],
 "metadata": {
  "kernelspec": {
   "display_name": "Python 3",
   "language": "python",
   "name": "python3"
  },
  "language_info": {
   "codemirror_mode": {
    "name": "ipython",
    "version": 3
   },
   "file_extension": ".py",
   "mimetype": "text/x-python",
   "name": "python",
   "nbconvert_exporter": "python",
   "pygments_lexer": "ipython3",
   "version": "3.7.4"
  }
 },
 "nbformat": 4,
 "nbformat_minor": 2
}
