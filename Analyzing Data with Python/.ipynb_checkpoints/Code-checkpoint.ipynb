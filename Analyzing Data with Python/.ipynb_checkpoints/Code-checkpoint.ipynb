{
 "cells": [
  {
   "cell_type": "code",
   "execution_count": 7,
   "metadata": {},
   "outputs": [],
   "source": [
    "# progress 1\n",
    "\n",
    "import pandas as pd\n",
    "\n",
    "df = pd.read_csv(\"data.csv\")\n",
    "df.head()\n",
    "# df.tail()\n",
    "\n",
    "# df.to_csv(\"df.csv\")"
   ]
  },
  {
   "cell_type": "code",
   "execution_count": 15,
   "metadata": {},
   "outputs": [
    {
     "name": "stdout",
     "output_type": "stream",
     "text": [
      "   Transaction ID  Application ID Description                  Date  Amount\n",
      "0            3004       100000004     Deposit  14-06-2020, at 13:01     500\n",
      "1            3005       100000004    Withdraw  14-06-2020, at 15:03     100\n",
      "2            3007       100000004     Deposit  14-06-2020, at 15:41     500\n",
      "3            3009       100000004    Withdraw  14-06-2020, at 19:54     100\n",
      "4            3010       100000004    Withdraw  14-06-2020, at 19:54     400\n",
      "----------------------------------------------------------------------------------\n",
      "       Transaction ID  Application ID       Amount\n",
      "count       11.000000            11.0    11.000000\n",
      "mean      3015.727273     100000004.0   481.818182\n",
      "std          8.978763             0.0   543.724529\n",
      "min       3004.000000     100000004.0   100.000000\n",
      "25%       3008.000000     100000004.0   100.000000\n",
      "50%       3017.000000     100000004.0   400.000000\n",
      "75%       3024.500000     100000004.0   500.000000\n",
      "max       3027.000000     100000004.0  2000.000000\n",
      "----------------------------------------------------------------------------------\n",
      "Transaction ID     int64\n",
      "Application ID     int64\n",
      "Description       object\n",
      "Date              object\n",
      "Amount             int64\n",
      "dtype: object\n",
      "----------------------------------------------------------------------------------\n",
      "        Transaction ID  Application ID Description                  Date  \\\n",
      "count        11.000000            11.0          11                    11   \n",
      "unique             NaN             NaN           2                     8   \n",
      "top                NaN             NaN    Withdraw  09-07-2020, at 10:09   \n",
      "freq               NaN             NaN           6                     3   \n",
      "mean       3015.727273     100000004.0         NaN                   NaN   \n",
      "std           8.978763             0.0         NaN                   NaN   \n",
      "min        3004.000000     100000004.0         NaN                   NaN   \n",
      "25%        3008.000000     100000004.0         NaN                   NaN   \n",
      "50%        3017.000000     100000004.0         NaN                   NaN   \n",
      "75%        3024.500000     100000004.0         NaN                   NaN   \n",
      "max        3027.000000     100000004.0         NaN                   NaN   \n",
      "\n",
      "             Amount  \n",
      "count     11.000000  \n",
      "unique          NaN  \n",
      "top             NaN  \n",
      "freq            NaN  \n",
      "mean     481.818182  \n",
      "std      543.724529  \n",
      "min      100.000000  \n",
      "25%      100.000000  \n",
      "50%      400.000000  \n",
      "75%      500.000000  \n",
      "max     2000.000000  \n",
      "----------------------------------------------------------------------------------\n",
      "<class 'pandas.core.frame.DataFrame'>\n",
      "RangeIndex: 11 entries, 0 to 10\n",
      "Data columns (total 5 columns):\n",
      " #   Column          Non-Null Count  Dtype \n",
      "---  ------          --------------  ----- \n",
      " 0   Transaction ID  11 non-null     int64 \n",
      " 1   Application ID  11 non-null     int64 \n",
      " 2   Description     11 non-null     object\n",
      " 3   Date            11 non-null     object\n",
      " 4   Amount          11 non-null     int64 \n",
      "dtypes: int64(3), object(2)\n",
      "memory usage: 568.0+ bytes\n",
      "None\n",
      "----------------------------------------------------------------------------------\n"
     ]
    }
   ],
   "source": [
    "# progress 2\n",
    "\n",
    "import pandas as pd\n",
    "\n",
    "df = pd.read_csv(\"data.csv\")\n",
    "print(df.head())\n",
    "print(\"----------------------------------------------------------------------------------\")\n",
    "print(df.describe())\n",
    "print(\"----------------------------------------------------------------------------------\")\n",
    "print(df.dtypes)\n",
    "print(\"----------------------------------------------------------------------------------\")\n",
    "print(df.describe(include=\"all\"))\n",
    "print(\"----------------------------------------------------------------------------------\")\n",
    "print(df.info())\n",
    "print(\"----------------------------------------------------------------------------------\")\n"
   ]
  },
  {
   "cell_type": "code",
   "execution_count": null,
   "metadata": {},
   "outputs": [],
   "source": []
  },
  {
   "cell_type": "code",
   "execution_count": null,
   "metadata": {},
   "outputs": [],
   "source": []
  },
  {
   "cell_type": "code",
   "execution_count": null,
   "metadata": {},
   "outputs": [],
   "source": []
  },
  {
   "cell_type": "code",
   "execution_count": null,
   "metadata": {},
   "outputs": [],
   "source": []
  },
  {
   "cell_type": "code",
   "execution_count": null,
   "metadata": {},
   "outputs": [],
   "source": []
  }
 ],
 "metadata": {
  "kernelspec": {
   "display_name": "Python 3",
   "language": "python",
   "name": "python3"
  },
  "language_info": {
   "codemirror_mode": {
    "name": "ipython",
    "version": 3
   },
   "file_extension": ".py",
   "mimetype": "text/x-python",
   "name": "python",
   "nbconvert_exporter": "python",
   "pygments_lexer": "ipython3",
   "version": "3.7.4"
  }
 },
 "nbformat": 4,
 "nbformat_minor": 2
}
